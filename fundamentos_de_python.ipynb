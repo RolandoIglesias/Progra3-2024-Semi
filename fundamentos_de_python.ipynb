{
  "cells": [
    {
      "cell_type": "markdown",
      "metadata": {
        "id": "view-in-github",
        "colab_type": "text"
      },
      "source": [
        "<a href=\"https://colab.research.google.com/github/RolandoIglesias/Progra3-2024-Semi/blob/main/fundamentos_de_python.ipynb\" target=\"_parent\"><img src=\"https://colab.research.google.com/assets/colab-badge.svg\" alt=\"Open In Colab\"/></a>"
      ]
    },
    {
      "cell_type": "code",
      "execution_count": null,
      "metadata": {
        "colab": {
          "base_uri": "https://localhost:8080/"
        },
        "collapsed": true,
        "id": "uIIHHr9E5DLs",
        "outputId": "9c363980-1073-41c3-de04-4ac847ab0dc9"
      },
      "outputs": [
        {
          "name": "stdout",
          "output_type": "stream",
          "text": [
            "Hola mundoooo\n",
            "Hola Rolando Daniel , inicial: R D\n"
          ]
        }
      ],
      "source": [
        "print (\"Hola mundoooo\")\n",
        "nombre = \"Rolando Daniel\"\n",
        "\n",
        "print (\"Hola\",nombre, \", inicial:\", nombre[0], nombre[8])"
      ]
    },
    {
      "cell_type": "markdown",
      "metadata": {
        "id": "ukD43CZL9gVS"
      },
      "source": [
        "Ejercicio, crear un programa en python que suma 2 numeros"
      ]
    },
    {
      "cell_type": "code",
      "execution_count": null,
      "metadata": {
        "colab": {
          "base_uri": "https://localhost:8080/"
        },
        "collapsed": true,
        "id": "ce7XqKsW9fax",
        "outputId": "19443edf-7dbe-442d-c0b7-23e9b105d708"
      },
      "outputs": [
        {
          "name": "stdout",
          "output_type": "stream",
          "text": [
            "La suma es: 14.5\n"
          ]
        }
      ],
      "source": [
        "num1 = 5\n",
        "num2 = 9.5\n",
        "resp = num1 + num2\n",
        "print (\"La suma es:\",resp)\n",
        "\n"
      ]
    },
    {
      "cell_type": "markdown",
      "metadata": {
        "id": "lOZsqbj__Un4"
      },
      "source": [
        "Ejercicio, crear un programa en python que suma 2 numeros introducidos por el usario"
      ]
    },
    {
      "cell_type": "code",
      "execution_count": null,
      "metadata": {
        "colab": {
          "base_uri": "https://localhost:8080/",
          "height": 388
        },
        "id": "X018bYUR_a5F",
        "outputId": "7b618a8b-fbe6-4bf2-b968-d782a85abd5d"
      },
      "outputs": [
        {
          "output_type": "stream",
          "name": "stdout",
          "text": [
            "num\n"
          ]
        },
        {
          "output_type": "error",
          "ename": "KeyboardInterrupt",
          "evalue": "Interrupted by user",
          "traceback": [
            "\u001b[0;31m---------------------------------------------------------------------------\u001b[0m",
            "\u001b[0;31mKeyboardInterrupt\u001b[0m                         Traceback (most recent call last)",
            "\u001b[0;32m<ipython-input-2-1c26e46482ff>\u001b[0m in \u001b[0;36m<cell line: 2>\u001b[0;34m()\u001b[0m\n\u001b[1;32m      1\u001b[0m \u001b[0mprint\u001b[0m\u001b[0;34m(\u001b[0m\u001b[0;34m\"num\"\u001b[0m\u001b[0;34m)\u001b[0m\u001b[0;34m\u001b[0m\u001b[0;34m\u001b[0m\u001b[0m\n\u001b[0;32m----> 2\u001b[0;31m \u001b[0mnum1\u001b[0m \u001b[0;34m=\u001b[0m \u001b[0mint\u001b[0m\u001b[0;34m(\u001b[0m\u001b[0minput\u001b[0m\u001b[0;34m(\u001b[0m\u001b[0;34m)\u001b[0m\u001b[0;34m)\u001b[0m\u001b[0;34m\u001b[0m\u001b[0;34m\u001b[0m\u001b[0m\n\u001b[0m\u001b[1;32m      3\u001b[0m \u001b[0;34m\u001b[0m\u001b[0m\n\u001b[1;32m      4\u001b[0m \u001b[0mprint\u001b[0m\u001b[0;34m(\u001b[0m\u001b[0;34m\"num2\"\u001b[0m\u001b[0;34m)\u001b[0m\u001b[0;34m\u001b[0m\u001b[0;34m\u001b[0m\u001b[0m\n\u001b[1;32m      5\u001b[0m \u001b[0mnum2\u001b[0m \u001b[0;34m=\u001b[0m \u001b[0mfloat\u001b[0m\u001b[0;34m(\u001b[0m\u001b[0minput\u001b[0m\u001b[0;34m(\u001b[0m\u001b[0;34m)\u001b[0m\u001b[0;34m)\u001b[0m\u001b[0;34m\u001b[0m\u001b[0;34m\u001b[0m\u001b[0m\n",
            "\u001b[0;32m/usr/local/lib/python3.10/dist-packages/ipykernel/kernelbase.py\u001b[0m in \u001b[0;36mraw_input\u001b[0;34m(self, prompt)\u001b[0m\n\u001b[1;32m    849\u001b[0m                 \u001b[0;34m\"raw_input was called, but this frontend does not support input requests.\"\u001b[0m\u001b[0;34m\u001b[0m\u001b[0;34m\u001b[0m\u001b[0m\n\u001b[1;32m    850\u001b[0m             )\n\u001b[0;32m--> 851\u001b[0;31m         return self._input_request(str(prompt),\n\u001b[0m\u001b[1;32m    852\u001b[0m             \u001b[0mself\u001b[0m\u001b[0;34m.\u001b[0m\u001b[0m_parent_ident\u001b[0m\u001b[0;34m,\u001b[0m\u001b[0;34m\u001b[0m\u001b[0;34m\u001b[0m\u001b[0m\n\u001b[1;32m    853\u001b[0m             \u001b[0mself\u001b[0m\u001b[0;34m.\u001b[0m\u001b[0m_parent_header\u001b[0m\u001b[0;34m,\u001b[0m\u001b[0;34m\u001b[0m\u001b[0;34m\u001b[0m\u001b[0m\n",
            "\u001b[0;32m/usr/local/lib/python3.10/dist-packages/ipykernel/kernelbase.py\u001b[0m in \u001b[0;36m_input_request\u001b[0;34m(self, prompt, ident, parent, password)\u001b[0m\n\u001b[1;32m    893\u001b[0m             \u001b[0;32mexcept\u001b[0m \u001b[0mKeyboardInterrupt\u001b[0m\u001b[0;34m:\u001b[0m\u001b[0;34m\u001b[0m\u001b[0;34m\u001b[0m\u001b[0m\n\u001b[1;32m    894\u001b[0m                 \u001b[0;31m# re-raise KeyboardInterrupt, to truncate traceback\u001b[0m\u001b[0;34m\u001b[0m\u001b[0;34m\u001b[0m\u001b[0m\n\u001b[0;32m--> 895\u001b[0;31m                 \u001b[0;32mraise\u001b[0m \u001b[0mKeyboardInterrupt\u001b[0m\u001b[0;34m(\u001b[0m\u001b[0;34m\"Interrupted by user\"\u001b[0m\u001b[0;34m)\u001b[0m \u001b[0;32mfrom\u001b[0m \u001b[0;32mNone\u001b[0m\u001b[0;34m\u001b[0m\u001b[0;34m\u001b[0m\u001b[0m\n\u001b[0m\u001b[1;32m    896\u001b[0m             \u001b[0;32mexcept\u001b[0m \u001b[0mException\u001b[0m \u001b[0;32mas\u001b[0m \u001b[0me\u001b[0m\u001b[0;34m:\u001b[0m\u001b[0;34m\u001b[0m\u001b[0;34m\u001b[0m\u001b[0m\n\u001b[1;32m    897\u001b[0m                 \u001b[0mself\u001b[0m\u001b[0;34m.\u001b[0m\u001b[0mlog\u001b[0m\u001b[0;34m.\u001b[0m\u001b[0mwarning\u001b[0m\u001b[0;34m(\u001b[0m\u001b[0;34m\"Invalid Message:\"\u001b[0m\u001b[0;34m,\u001b[0m \u001b[0mexc_info\u001b[0m\u001b[0;34m=\u001b[0m\u001b[0;32mTrue\u001b[0m\u001b[0;34m)\u001b[0m\u001b[0;34m\u001b[0m\u001b[0;34m\u001b[0m\u001b[0m\n",
            "\u001b[0;31mKeyboardInterrupt\u001b[0m: Interrupted by user"
          ]
        }
      ],
      "source": [
        "print(\"num1\")\n",
        "num1 = int(input())\n",
        "\n",
        "print(\"num2\")\n",
        "num2 = float(input())\n",
        "\n",
        "resp = num1 + num2\n",
        "print(\"La suma es:\",resp)"
      ]
    },
    {
      "cell_type": "code",
      "execution_count": null,
      "metadata": {
        "colab": {
          "background_save": true,
          "base_uri": "https://localhost:8080/"
        },
        "id": "VkF613kvCJYp",
        "outputId": "9f3dc0e1-f9d7-462e-d95d-1345edfc0ffd"
      },
      "outputs": [
        {
          "name": "stdout",
          "output_type": "stream",
          "text": [
            "Rolando Rolando l do Daniel\n",
            "True\n"
          ]
        }
      ],
      "source": [
        "nombre = \"Rolando Daniel\"\n",
        "print (nombre[0:7], nombre[:7], nombre[-1], nombre[5:len(nombre)])\n",
        "\n",
        "estado = False\n"
      ]
    },
    {
      "cell_type": "markdown",
      "source": [
        "TAREA-1 (Convertir grados Farenheits a Celsius)"
      ],
      "metadata": {
        "id": "Racv8v8U3e0O"
      }
    },
    {
      "cell_type": "code",
      "source": [
        "def fahrenheit_a_celsius(fahrenheit):\n",
        "    celsius = (fahrenheit - 32) * 5.0/9.0\n",
        "    return celsius\n",
        "\n",
        "grados_fahrenheit = float(input(\"Ingrese los grados Fahrenheit: \"))\n",
        "grados_celsius = fahrenheit_a_celsius(grados_fahrenheit)\n",
        "\n",
        "print(str(grados_fahrenheit) + \" grados Fahrenheit son \" + str(round(grados_celsius, 2)) + \" grados Celsius.\")"
      ],
      "metadata": {
        "colab": {
          "base_uri": "https://localhost:8080/"
        },
        "id": "LPv8tQ5w3d66",
        "outputId": "08e236b2-377f-4bef-c2a4-c5121fad5a14"
      },
      "execution_count": null,
      "outputs": [
        {
          "output_type": "stream",
          "name": "stdout",
          "text": [
            "Ingrese los grados Fahrenheit: 10\n",
            "10.0 grados Fahrenheit son -12.22 grados Celsius.\n"
          ]
        }
      ]
    },
    {
      "cell_type": "markdown",
      "source": [
        "TAREA-2 (Convertir de Farenheits, Celsius a Kelvin)"
      ],
      "metadata": {
        "id": "QxqZjwWVRhxn"
      }
    },
    {
      "cell_type": "code",
      "source": [
        "def fahrenheit_a_celsius(f):\n",
        "    c = (f - 32) * 5.0/9.0\n",
        "    return c\n",
        "\n",
        "\n",
        "def celsius_a_kelvin(c):\n",
        "    k = c + 273.15\n",
        "    return k\n",
        "\n",
        "\n",
        "def fahrenheit_a_kelvin(f):\n",
        "\n",
        "    c = fahrenheit_a_celsius(f)\n",
        "\n",
        "    k = celsius_a_kelvin(c)\n",
        "    return k\n",
        "\n",
        "fahrenheit = float(input(\"Ingresa la temperatura en grados Fahrenheit: \"))\n",
        "\n",
        "\n",
        "celsius = fahrenheit_a_celsius(fahrenheit)\n",
        "kelvin_desde_fahrenheit = fahrenheit_a_kelvin(fahrenheit)\n",
        "kelvin_desde_celsius = celsius_a_kelvin(celsius)\n",
        "\n",
        "\n",
        "print(f\"\\n{fahrenheit} grados Fahrenheit son {celsius:.2f} grados Celsius\")\n",
        "print(f\"{fahrenheit} grados Fahrenheit son {kelvin_desde_fahrenheit:.2f} Kelvin\")\n",
        "print(f\"{celsius:.2f} grados Celsius son {kelvin_desde_celsius:.2f} Kelvin\")\n"
      ],
      "metadata": {
        "colab": {
          "base_uri": "https://localhost:8080/"
        },
        "id": "lg63K4fYRhh4",
        "outputId": "b152b9bd-dcdc-4337-9b3b-8aa0486d757a"
      },
      "execution_count": null,
      "outputs": [
        {
          "output_type": "stream",
          "name": "stdout",
          "text": [
            "Ingresa la temperatura en grados Fahrenheit: 1\n",
            "\n",
            "1.0 grados Fahrenheit son -17.22 grados Celsius\n",
            "1.0 grados Fahrenheit son 255.93 Kelvin\n",
            "-17.22 grados Celsius son 255.93 Kelvin\n"
          ]
        }
      ]
    },
    {
      "cell_type": "markdown",
      "source": [],
      "metadata": {
        "id": "_pa8s2gLx-8x"
      }
    },
    {
      "cell_type": "markdown",
      "source": [],
      "metadata": {
        "id": "lmICSjxUyBhk"
      }
    },
    {
      "cell_type": "markdown",
      "source": [
        "Ejercicio: Elevar un numero al cuadrado"
      ],
      "metadata": {
        "id": "a6DYksOU5-JS"
      }
    },
    {
      "cell_type": "code",
      "source": [
        "def elevar_al_cuadrado(base=0, exponente=2):\n",
        "\n",
        "  return base**exponente"
      ],
      "metadata": {
        "id": "cUYRdWwW6KeF"
      },
      "execution_count": null,
      "outputs": []
    },
    {
      "cell_type": "code",
      "source": [
        "num = int(input(\"num: \"))\n",
        "print(\"Cuadrado\", elevar_al_cuadrado(num,3))"
      ],
      "metadata": {
        "colab": {
          "base_uri": "https://localhost:8080/"
        },
        "id": "XrPS_c5t6mjw",
        "outputId": "a088b2b7-f299-4fee-c610-dfb91342c60b"
      },
      "execution_count": null,
      "outputs": [
        {
          "output_type": "stream",
          "name": "stdout",
          "text": [
            "num: 3\n",
            "Cuadrado 27\n"
          ]
        }
      ]
    },
    {
      "cell_type": "markdown",
      "source": [
        "USANDO FUNCIONES LAMBDA."
      ],
      "metadata": {
        "id": "_4fBN00Y8Jy4"
      }
    },
    {
      "cell_type": "code",
      "source": [
        "elevarCuadradoLambda = lambda base,exponente: base**exponente"
      ],
      "metadata": {
        "id": "4jZmP0oG8NGC"
      },
      "execution_count": null,
      "outputs": []
    },
    {
      "cell_type": "code",
      "source": [
        "Valor = int(input(\"Valor: \"))\n",
        "print(\"Cuadrado\",elevarCuadradoLambda(Valor,2))"
      ],
      "metadata": {
        "colab": {
          "base_uri": "https://localhost:8080/"
        },
        "id": "vEbi_JkO9GgY",
        "outputId": "0d0394af-0428-4051-ba08-79cdb73c2a02"
      },
      "execution_count": null,
      "outputs": [
        {
          "output_type": "stream",
          "name": "stdout",
          "text": [
            "Valor: 3\n",
            "Cuadrado 9\n"
          ]
        }
      ]
    },
    {
      "cell_type": "code",
      "source": [
        "serie = [5,4,3,2,1]\n",
        "resp = map(lambda x: x**2, serie)\n",
        "print(list(resp))\n",
        "\n",
        "resp2 = map(elevar_al_cuadrado, serie)\n",
        "print(list(resp2))"
      ],
      "metadata": {
        "colab": {
          "base_uri": "https://localhost:8080/"
        },
        "id": "5cMlTCaJ_ehE",
        "outputId": "645384c6-6f0e-4ea8-e384-1554be3c13bf"
      },
      "execution_count": null,
      "outputs": [
        {
          "output_type": "stream",
          "name": "stdout",
          "text": [
            "[25, 16, 9, 4, 1]\n",
            "[25, 16, 9, 4, 1]\n"
          ]
        }
      ]
    },
    {
      "cell_type": "markdown",
      "source": [
        "EJERCICIO: Obtener la raiz cuadrada de una serie de numeros fijos"
      ],
      "metadata": {
        "id": "xxbEpY3HC2FW"
      }
    },
    {
      "cell_type": "code",
      "source": [
        "serie = [5,4,3,2,1]\n",
        "\n",
        "resp = map(lambda x: math-, serie)\n",
        "print(list(resp))\n"
      ],
      "metadata": {
        "id": "sIWXpHXKDA9c"
      },
      "execution_count": null,
      "outputs": []
    },
    {
      "cell_type": "markdown",
      "source": [
        "Estructura de control"
      ],
      "metadata": {
        "id": "vwdJZhokFpuk"
      }
    },
    {
      "cell_type": "markdown",
      "source": [
        "IF\n",
        "\n",
        "Ejercicio Solicitar al usario la edad y determinar su clasificacion y que no acepte valores negativos"
      ],
      "metadata": {
        "id": "_phmoFiWF5aq"
      }
    },
    {
      "cell_type": "markdown",
      "source": [],
      "metadata": {
        "id": "yX8n7sDWCnnS"
      }
    },
    {
      "cell_type": "code",
      "source": [
        "edad = int(input(\"Edad: \"))\n",
        "if edad>= 17:\n",
        "  print(\"bienvenido al mundo de las responsabilidades\")\n"
      ],
      "metadata": {
        "colab": {
          "base_uri": "https://localhost:8080/"
        },
        "id": "26pQExR_GGCG",
        "outputId": "ca431198-d7db-435e-a96e-e1234ff6992c"
      },
      "execution_count": null,
      "outputs": [
        {
          "output_type": "stream",
          "name": "stdout",
          "text": [
            "Edad: 20\n",
            "bienvenido al mundo de las responsabilidades\n"
          ]
        }
      ]
    },
    {
      "cell_type": "code",
      "source": [
        "continuar = \"s\"\n",
        "while continuar == \"s\":\n",
        " edad = int(input(\"Edad: \"))\n",
        " if(edad<0):\n",
        "   print(\"no es una edad valida\")\n",
        " elif edad<=2:\n",
        "   print(\"eres un bebe\")\n",
        " elif edad<=12:\n",
        "  print(\"eres un niño\")\n",
        " elif edad<=18:\n",
        "  print(\"eres un adolescente\")\n",
        " elif edad<=65:\n",
        "  print(\"eres un adulto\")\n",
        " elif edad<=85:\n",
        "  print(\"eres un adulto mayor\")\n",
        " else:\n",
        "  print(\"Larga vida\")\n",
        " continuar = input(\"continuar s, si no cualquier tecla :\")"
      ],
      "metadata": {
        "colab": {
          "base_uri": "https://localhost:8080/",
          "height": 356
        },
        "id": "jpinI07RHVm8",
        "outputId": "77de0ad5-9048-4dc6-ed53-2a6d8661c910"
      },
      "execution_count": null,
      "outputs": [
        {
          "output_type": "error",
          "ename": "KeyboardInterrupt",
          "evalue": "Interrupted by user",
          "traceback": [
            "\u001b[0;31m---------------------------------------------------------------------------\u001b[0m",
            "\u001b[0;31mKeyboardInterrupt\u001b[0m                         Traceback (most recent call last)",
            "\u001b[0;32m<ipython-input-22-be9c6838639c>\u001b[0m in \u001b[0;36m<cell line: 2>\u001b[0;34m()\u001b[0m\n\u001b[1;32m      1\u001b[0m \u001b[0mcontinuar\u001b[0m \u001b[0;34m=\u001b[0m \u001b[0;34m\"s\"\u001b[0m\u001b[0;34m\u001b[0m\u001b[0;34m\u001b[0m\u001b[0m\n\u001b[1;32m      2\u001b[0m \u001b[0;32mwhile\u001b[0m \u001b[0mcontinuar\u001b[0m \u001b[0;34m==\u001b[0m \u001b[0;34m\"s\"\u001b[0m\u001b[0;34m:\u001b[0m\u001b[0;34m\u001b[0m\u001b[0;34m\u001b[0m\u001b[0m\n\u001b[0;32m----> 3\u001b[0;31m  \u001b[0medad\u001b[0m \u001b[0;34m=\u001b[0m \u001b[0mint\u001b[0m\u001b[0;34m(\u001b[0m\u001b[0minput\u001b[0m\u001b[0;34m(\u001b[0m\u001b[0;34m\"Edad: \"\u001b[0m\u001b[0;34m)\u001b[0m\u001b[0;34m)\u001b[0m\u001b[0;34m\u001b[0m\u001b[0;34m\u001b[0m\u001b[0m\n\u001b[0m\u001b[1;32m      4\u001b[0m  \u001b[0;32mif\u001b[0m\u001b[0;34m(\u001b[0m\u001b[0medad\u001b[0m\u001b[0;34m<\u001b[0m\u001b[0;36m0\u001b[0m\u001b[0;34m)\u001b[0m\u001b[0;34m:\u001b[0m\u001b[0;34m\u001b[0m\u001b[0;34m\u001b[0m\u001b[0m\n\u001b[1;32m      5\u001b[0m    \u001b[0mprint\u001b[0m\u001b[0;34m(\u001b[0m\u001b[0;34m\"no es una edad valida\"\u001b[0m\u001b[0;34m)\u001b[0m\u001b[0;34m\u001b[0m\u001b[0;34m\u001b[0m\u001b[0m\n",
            "\u001b[0;32m/usr/local/lib/python3.10/dist-packages/ipykernel/kernelbase.py\u001b[0m in \u001b[0;36mraw_input\u001b[0;34m(self, prompt)\u001b[0m\n\u001b[1;32m    849\u001b[0m                 \u001b[0;34m\"raw_input was called, but this frontend does not support input requests.\"\u001b[0m\u001b[0;34m\u001b[0m\u001b[0;34m\u001b[0m\u001b[0m\n\u001b[1;32m    850\u001b[0m             )\n\u001b[0;32m--> 851\u001b[0;31m         return self._input_request(str(prompt),\n\u001b[0m\u001b[1;32m    852\u001b[0m             \u001b[0mself\u001b[0m\u001b[0;34m.\u001b[0m\u001b[0m_parent_ident\u001b[0m\u001b[0;34m,\u001b[0m\u001b[0;34m\u001b[0m\u001b[0;34m\u001b[0m\u001b[0m\n\u001b[1;32m    853\u001b[0m             \u001b[0mself\u001b[0m\u001b[0;34m.\u001b[0m\u001b[0m_parent_header\u001b[0m\u001b[0;34m,\u001b[0m\u001b[0;34m\u001b[0m\u001b[0;34m\u001b[0m\u001b[0m\n",
            "\u001b[0;32m/usr/local/lib/python3.10/dist-packages/ipykernel/kernelbase.py\u001b[0m in \u001b[0;36m_input_request\u001b[0;34m(self, prompt, ident, parent, password)\u001b[0m\n\u001b[1;32m    893\u001b[0m             \u001b[0;32mexcept\u001b[0m \u001b[0mKeyboardInterrupt\u001b[0m\u001b[0;34m:\u001b[0m\u001b[0;34m\u001b[0m\u001b[0;34m\u001b[0m\u001b[0m\n\u001b[1;32m    894\u001b[0m                 \u001b[0;31m# re-raise KeyboardInterrupt, to truncate traceback\u001b[0m\u001b[0;34m\u001b[0m\u001b[0;34m\u001b[0m\u001b[0m\n\u001b[0;32m--> 895\u001b[0;31m                 \u001b[0;32mraise\u001b[0m \u001b[0mKeyboardInterrupt\u001b[0m\u001b[0;34m(\u001b[0m\u001b[0;34m\"Interrupted by user\"\u001b[0m\u001b[0;34m)\u001b[0m \u001b[0;32mfrom\u001b[0m \u001b[0;32mNone\u001b[0m\u001b[0;34m\u001b[0m\u001b[0;34m\u001b[0m\u001b[0m\n\u001b[0m\u001b[1;32m    896\u001b[0m             \u001b[0;32mexcept\u001b[0m \u001b[0mException\u001b[0m \u001b[0;32mas\u001b[0m \u001b[0me\u001b[0m\u001b[0;34m:\u001b[0m\u001b[0;34m\u001b[0m\u001b[0;34m\u001b[0m\u001b[0m\n\u001b[1;32m    897\u001b[0m                 \u001b[0mself\u001b[0m\u001b[0;34m.\u001b[0m\u001b[0mlog\u001b[0m\u001b[0;34m.\u001b[0m\u001b[0mwarning\u001b[0m\u001b[0;34m(\u001b[0m\u001b[0;34m\"Invalid Message:\"\u001b[0m\u001b[0;34m,\u001b[0m \u001b[0mexc_info\u001b[0m\u001b[0;34m=\u001b[0m\u001b[0;32mTrue\u001b[0m\u001b[0;34m)\u001b[0m\u001b[0;34m\u001b[0m\u001b[0;34m\u001b[0m\u001b[0m\n",
            "\u001b[0;31mKeyboardInterrupt\u001b[0m: Interrupted by user"
          ]
        }
      ]
    },
    {
      "cell_type": "markdown",
      "source": [],
      "metadata": {
        "id": "LUQKuSmbKJKi"
      }
    },
    {
      "cell_type": "code",
      "source": [
        "Num = int(input(\"Num \"))\n",
        "if(Num<0):\n",
        "  print(\"Negativo\")\n",
        "elif(Num==0):\n",
        "  print(\"Cero\")\n",
        "else:\n",
        "  print(\"Positivo\")"
      ],
      "metadata": {
        "colab": {
          "base_uri": "https://localhost:8080/",
          "height": 356
        },
        "id": "4ITAnPA2KLEB",
        "outputId": "8fe3b809-e3e4-4b87-a6a3-b62536817163"
      },
      "execution_count": null,
      "outputs": [
        {
          "output_type": "error",
          "ename": "KeyboardInterrupt",
          "evalue": "Interrupted by user",
          "traceback": [
            "\u001b[0;31m---------------------------------------------------------------------------\u001b[0m",
            "\u001b[0;31mKeyboardInterrupt\u001b[0m                         Traceback (most recent call last)",
            "\u001b[0;32m<ipython-input-37-fdd26319174c>\u001b[0m in \u001b[0;36m<cell line: 1>\u001b[0;34m()\u001b[0m\n\u001b[0;32m----> 1\u001b[0;31m \u001b[0mNum\u001b[0m \u001b[0;34m=\u001b[0m \u001b[0mint\u001b[0m\u001b[0;34m(\u001b[0m\u001b[0minput\u001b[0m\u001b[0;34m(\u001b[0m\u001b[0;34m\"Num \"\u001b[0m\u001b[0;34m)\u001b[0m\u001b[0;34m)\u001b[0m\u001b[0;34m\u001b[0m\u001b[0;34m\u001b[0m\u001b[0m\n\u001b[0m\u001b[1;32m      2\u001b[0m \u001b[0;32mif\u001b[0m\u001b[0;34m(\u001b[0m\u001b[0mNum\u001b[0m\u001b[0;34m<\u001b[0m\u001b[0;36m0\u001b[0m\u001b[0;34m)\u001b[0m\u001b[0;34m:\u001b[0m\u001b[0;34m\u001b[0m\u001b[0;34m\u001b[0m\u001b[0m\n\u001b[1;32m      3\u001b[0m   \u001b[0mprint\u001b[0m\u001b[0;34m(\u001b[0m\u001b[0;34m\"Negativo\"\u001b[0m\u001b[0;34m)\u001b[0m\u001b[0;34m\u001b[0m\u001b[0;34m\u001b[0m\u001b[0m\n\u001b[1;32m      4\u001b[0m \u001b[0;32melif\u001b[0m\u001b[0;34m(\u001b[0m\u001b[0mNum\u001b[0m\u001b[0;34m==\u001b[0m\u001b[0;36m0\u001b[0m\u001b[0;34m)\u001b[0m\u001b[0;34m:\u001b[0m\u001b[0;34m\u001b[0m\u001b[0;34m\u001b[0m\u001b[0m\n\u001b[1;32m      5\u001b[0m   \u001b[0mprint\u001b[0m\u001b[0;34m(\u001b[0m\u001b[0;34m\"Cero\"\u001b[0m\u001b[0;34m)\u001b[0m\u001b[0;34m\u001b[0m\u001b[0;34m\u001b[0m\u001b[0m\n",
            "\u001b[0;32m/usr/local/lib/python3.10/dist-packages/ipykernel/kernelbase.py\u001b[0m in \u001b[0;36mraw_input\u001b[0;34m(self, prompt)\u001b[0m\n\u001b[1;32m    849\u001b[0m                 \u001b[0;34m\"raw_input was called, but this frontend does not support input requests.\"\u001b[0m\u001b[0;34m\u001b[0m\u001b[0;34m\u001b[0m\u001b[0m\n\u001b[1;32m    850\u001b[0m             )\n\u001b[0;32m--> 851\u001b[0;31m         return self._input_request(str(prompt),\n\u001b[0m\u001b[1;32m    852\u001b[0m             \u001b[0mself\u001b[0m\u001b[0;34m.\u001b[0m\u001b[0m_parent_ident\u001b[0m\u001b[0;34m,\u001b[0m\u001b[0;34m\u001b[0m\u001b[0;34m\u001b[0m\u001b[0m\n\u001b[1;32m    853\u001b[0m             \u001b[0mself\u001b[0m\u001b[0;34m.\u001b[0m\u001b[0m_parent_header\u001b[0m\u001b[0;34m,\u001b[0m\u001b[0;34m\u001b[0m\u001b[0;34m\u001b[0m\u001b[0m\n",
            "\u001b[0;32m/usr/local/lib/python3.10/dist-packages/ipykernel/kernelbase.py\u001b[0m in \u001b[0;36m_input_request\u001b[0;34m(self, prompt, ident, parent, password)\u001b[0m\n\u001b[1;32m    893\u001b[0m             \u001b[0;32mexcept\u001b[0m \u001b[0mKeyboardInterrupt\u001b[0m\u001b[0;34m:\u001b[0m\u001b[0;34m\u001b[0m\u001b[0;34m\u001b[0m\u001b[0m\n\u001b[1;32m    894\u001b[0m                 \u001b[0;31m# re-raise KeyboardInterrupt, to truncate traceback\u001b[0m\u001b[0;34m\u001b[0m\u001b[0;34m\u001b[0m\u001b[0m\n\u001b[0;32m--> 895\u001b[0;31m                 \u001b[0;32mraise\u001b[0m \u001b[0mKeyboardInterrupt\u001b[0m\u001b[0;34m(\u001b[0m\u001b[0;34m\"Interrupted by user\"\u001b[0m\u001b[0;34m)\u001b[0m \u001b[0;32mfrom\u001b[0m \u001b[0;32mNone\u001b[0m\u001b[0;34m\u001b[0m\u001b[0;34m\u001b[0m\u001b[0m\n\u001b[0m\u001b[1;32m    896\u001b[0m             \u001b[0;32mexcept\u001b[0m \u001b[0mException\u001b[0m \u001b[0;32mas\u001b[0m \u001b[0me\u001b[0m\u001b[0;34m:\u001b[0m\u001b[0;34m\u001b[0m\u001b[0;34m\u001b[0m\u001b[0m\n\u001b[1;32m    897\u001b[0m                 \u001b[0mself\u001b[0m\u001b[0;34m.\u001b[0m\u001b[0mlog\u001b[0m\u001b[0;34m.\u001b[0m\u001b[0mwarning\u001b[0m\u001b[0;34m(\u001b[0m\u001b[0;34m\"Invalid Message:\"\u001b[0m\u001b[0;34m,\u001b[0m \u001b[0mexc_info\u001b[0m\u001b[0;34m=\u001b[0m\u001b[0;32mTrue\u001b[0m\u001b[0;34m)\u001b[0m\u001b[0;34m\u001b[0m\u001b[0;34m\u001b[0m\u001b[0m\n",
            "\u001b[0;31mKeyboardInterrupt\u001b[0m: Interrupted by user"
          ]
        }
      ]
    },
    {
      "cell_type": "markdown",
      "source": [
        "solicitar una tabla de muntiplicar y generarla"
      ],
      "metadata": {
        "id": "DkH57m9SOb9C"
      }
    },
    {
      "cell_type": "code",
      "source": [
        "continuar=\"s\"\n",
        "while continuar==\"s\":\n",
        "  tabla = int(input(\"tabla: \"))\n",
        "  for i in range(1,11):\n",
        "    print(tabla,\"x\",i,\"=\",tabla*i)\n",
        "continuar = input(\"continuar s, si no cualquier tecla :\")"
      ],
      "metadata": {
        "colab": {
          "base_uri": "https://localhost:8080/"
        },
        "id": "yhMJ0iQJOllH",
        "outputId": "e5b7531f-a67c-4d09-917e-18e14df8b04f"
      },
      "execution_count": null,
      "outputs": [
        {
          "name": "stdout",
          "output_type": "stream",
          "text": [
            "tabla: 1\n",
            "1 x 1 = 1\n",
            "1 x 2 = 2\n",
            "1 x 3 = 3\n",
            "1 x 4 = 4\n",
            "1 x 5 = 5\n",
            "1 x 6 = 6\n",
            "1 x 7 = 7\n",
            "1 x 8 = 8\n",
            "1 x 9 = 9\n",
            "1 x 10 = 10\n",
            "continuar s, si no cualquier tecla :b\n"
          ]
        }
      ]
    },
    {
      "cell_type": "markdown",
      "source": [
        "Desarrolle el conversor de Área (Superficie) haciendo uso de los\n",
        "diccionarios y las funciones de usuario\n",
        "\n",
        "a. Pie Cuadrado\n",
        "b. Vara Cuadrada\n",
        "c. Yarda Cuadrada\n",
        "d. Metro Cuadrado\n",
        "e. Tareas\n",
        "f. Manzana\n",
        "g. Hectárea"
      ],
      "metadata": {
        "id": "HRMdIIW_Il8a"
      }
    },
    {
      "cell_type": "code",
      "source": [
        "def menu():\n",
        "    print(\"\\nSeleccione el tipo de conversión que desea realizar:\")\n",
        "    print(\"1. Longitud\")\n",
        "    print(\"2. Masa\")\n",
        "    print(\"3. Almacenamiento\")\n",
        "    print(\"4. Tiempo\")\n",
        "    print(\"5. Volumen\")\n",
        "    print(\"6. Área\")\n",
        "\n",
        "    return input(\"\\nIngrese el número de la opción elegida: \")\n",
        "\n",
        "def seleccionar_unidades(tipo):\n",
        "    if tipo == \"1\":\n",
        "        print(\"\\nSeleccione la unidad de origen y destino:\")\n",
        "        unidades = ['']\n",
        "    elif tipo == \"2\":\n",
        "        unidades = ['g', '0']\n",
        "\n",
        "    else:\n",
        "        unidades = []\n",
        "\n",
        "    for i, unidad in enumerate(unidades):\n",
        "        print(f\"{i + 1}. {unidad}\")\n",
        "\n",
        "    desde = int(input(\"\\nSeleccione la unidad de origen: \")) - 1\n",
        "    hacia = int(input(\"Seleccione la unidad de destino: \")) - 1\n",
        "\n",
        "    return unidades[desde], unidades[hacia]\n",
        "\n",
        "try:\n",
        "    tipo_conversion = menu()\n",
        "    unidad_origen, unidad_destino = seleccionar_unidades(tipo_conversion)\n",
        "    valor = float(input(\"\\nIngrese el valor a convertir: \"))\n",
        "\n",
        "    if tipo_conversion == \"1\":\n",
        "        resultado = convertir_area(valor, unidad_origen, unidad_destino)\n",
        "    else:\n",
        "        print(\"Tipo de conversión no válido.\")\n",
        "        resultado = None\n",
        "\n",
        "    if resultado is not None:\n",
        "        print(f\"\\n{valor} {unidad_origen} son equivalentes a {resultado:.6g} {unidad_destino}\")\n",
        "\n",
        "except ValueError:\n",
        "    print(\"Por favor, ingrese valores numéricos válidos.\")\n",
        "except Exception as e:\n",
        "    print(f\"Ocurrió un error: {e}\")\n",
        "\n",
        "\n"
      ],
      "metadata": {
        "id": "wiPxm-bSKffF",
        "colab": {
          "base_uri": "https://localhost:8080/"
        },
        "outputId": "323effee-ef7d-4890-ceb4-4f3d55ad3c21"
      },
      "execution_count": null,
      "outputs": [
        {
          "output_type": "stream",
          "name": "stdout",
          "text": [
            "\n",
            "Seleccione el tipo de conversión que desea realizar:\n",
            "1.  Área\n",
            "\n",
            "Ingrese el número de la opción elegida: 1\n",
            "\n",
            "Seleccione la unidad de origen y destino:\n",
            "1. metros_cuadrados\n",
            "2. kilometros_cuadrados\n",
            "3. centimetros_cuadrados\n",
            "4. milimetros_cuadrados\n",
            "5. hectareas\n",
            "6. acres\n",
            "7. pies_cuadrados\n",
            "8. yardas_cuadradas\n",
            "9. pulgadas_cuadradas\n",
            "10. millas_cuadradas\n",
            "\n",
            "Seleccione la unidad de origen: 1\n",
            "Seleccione la unidad de destino: 8\n",
            "\n",
            "Ingrese el valor a convertir: 1\n",
            "Ocurrió un error: name 'convertir_area' is not defined\n"
          ]
        }
      ]
    },
    {
      "cell_type": "markdown",
      "source": [
        "1. Desarrolle un algoritmo en Python que calcule el IMPUESTO A LAS\n",
        "ACTIVIDADES ECONOMICAS de acuerdo con la siguiente tabla. El monto\n",
        "de la actividad económica debe ser introducido por el usuario. (40%)"
      ],
      "metadata": {
        "id": "EWmGOUaXRK2v"
      }
    },
    {
      "cell_type": "code",
      "source": [
        "tramos ={\n",
        "    \"desde\":[0.01,500.01,1000.01,2000.01,3000.01,6000.01,18000.01,30000.01,60000.01,100000.01,200000.01,300000.01,400000.01,500000.01,1000000.01],\n",
        "    \"hasta\":[500,1000,2000,3000,6000,18000,30000,60000,100000,200000,300000,400000,500000,1000000,99999999],\n",
        "    \"precio_fijo\":[0,3,3,3,2,2,2,1,0.8,0.7,0.6,0.45,0.4,0.3,0.18],\n",
        "    \"adicional\":[1.5,1.5,3,6,9,15,39,63,93,125,195,255,300,340,490]\n",
        "}\n"
      ],
      "metadata": {
        "id": "rUUmYTAeRQzv"
      },
      "execution_count": null,
      "outputs": []
    },
    {
      "cell_type": "code",
      "source": [
        "def calcular_impuesto(actividad_economica):\n",
        "    for tramo in range(len(tramos[\"desde\"])):\n",
        "        if tramos[\"desde\"][tramo] <= actividad_economica <= tramos[\"hasta\"][tramo]:\n",
        "            diferencia = actividad_economica - tramos[\"desde\"][tramo]\n",
        "            impuesto = (diferencia / 1000) * tramos[\"precio_fijo\"][tramo] + tramos[\"adicional\"][tramo]\n",
        "            print(tramos[\"hasta\"][tramo])\n",
        "            return round(impuesto, 2)\n",
        "    return 0\n",
        "\n",
        "# Ejemplos de uso\n",
        "\n",
        "# Ejemplo 1: Actividad económica de $1,875.79\n",
        "actividad = float(input(\"Ingrese la actividad económica: \"))\n",
        "impuesto = calcular_impuesto(actividad)\n",
        "print(f\"El impuesto para una actividad económica de {actividad} es: ${impuesto}\")\n"
      ],
      "metadata": {
        "colab": {
          "base_uri": "https://localhost:8080/"
        },
        "id": "4VG6URLYTBof",
        "outputId": "455877a4-d75b-4702-c510-08adc669f2eb"
      },
      "execution_count": null,
      "outputs": [
        {
          "output_type": "stream",
          "name": "stdout",
          "text": [
            "Ingrese la actividad económica: 20000\n",
            "30000\n",
            "El impuesto para una actividad económica de 20000.0 es: $43.0\n"
          ]
        }
      ]
    },
    {
      "cell_type": "markdown",
      "source": [
        "calculadora de materias por computos y nota final de una universidad, son 2 laboratorios por computo y el parcial si se saca 10 vale 4\n"
      ],
      "metadata": {
        "id": "M4oyLeWqyJVY"
      }
    },
    {
      "cell_type": "code",
      "source": [
        "# prompt: calculadora de materias por computos y nota final de una universidad, son 2 laboratorios y el parcial si se saca 10 vale 4 por computo y son 3 computos por ciclo\n",
        "\n",
        "def calcular_nota_final(lab1_computo1, lab2_computo1, parcial_computo1,\n",
        "                       lab1_computo2, lab2_computo2, parcial_computo2,\n",
        "                       lab1_computo3, lab2_computo3, parcial_computo3):\n",
        "  \"\"\"Calcula la nota final de una materia con 2 laboratorios y un parcial por computo.\n",
        "\n",
        "  Args:\n",
        "    lab1_computo1: Nota del laboratorio 1 en el computo 1.\n",
        "    lab2_computo1: Nota del laboratorio 2 en el computo 1.\n",
        "    parcial_computo1: Nota del parcial en el computo 1.\n",
        "    lab1_computo2: Nota del laboratorio 1 en el computo 2.\n",
        "    lab2_computo2: Nota del laboratorio 2 en el computo 2.\n",
        "    parcial_computo2: Nota del parcial en el computo 2.\n",
        "    lab1_computo3: Nota del laboratorio 1 en el computo 3.\n",
        "    lab2_computo3: Nota del laboratorio 2 en el computo 3.\n",
        "    parcial_computo3: Nota del parcial en el computo 3.\n",
        "\n",
        "  Returns:\n",
        "    La nota final de la materia.\n",
        "  \"\"\"\n",
        "\n",
        "  nota_computo1 = (lab1_computo1 + lab2_computo1 + parcial_computo1 * 4) / 6\n",
        "  nota_computo2 = (lab1_computo2 + lab2_computo2 + parcial_computo2 * 4) / 6\n",
        "  nota_computo3 = (lab1_computo3 + lab2_computo3 + parcial_computo3 * 4) / 6\n",
        "\n",
        "  nota_final = (nota_computo1 + nota_computo2 + nota_computo3) / 3\n",
        "  return nota_final\n",
        "\n",
        "# Ejemplo de uso\n",
        "lab1_computo1 = float(input(\"Nota Lab1 Computo 1: \"))\n",
        "lab2_computo1 = float(input(\"Nota Lab2 Computo 1: \"))\n",
        "parcial_computo1 = float(input(\"Nota Parcial Computo 1: \"))\n",
        "lab1_computo2 = float(input(\"Nota Lab1 Computo 2: \"))\n",
        "lab2_computo2 = float(input(\"Nota Lab2 Computo 2: \"))\n",
        "parcial_computo2 = float(input(\"Nota Parcial Computo 2: \"))\n",
        "lab1_computo3 = float(input(\"Nota Lab1 Computo 3: \"))\n",
        "lab2_computo3 = float(input(\"Nota Lab2 Computo 3: \"))\n",
        "parcial_computo3 = float(input(\"Nota Parcial Computo 3: \"))\n",
        "\n",
        "nota_final = calcular_nota_final(lab1_computo1, lab2_computo1, parcial_computo1,\n",
        "                                 lab1_computo2, lab2_computo2, parcial_computo2,\n",
        "                                 lab1_computo3, lab2_computo3, parcial_computo3)\n",
        "\n",
        "print(f\"La nota final de la materia es: {nota_final:.2f}\")\n"
      ],
      "metadata": {
        "colab": {
          "base_uri": "https://localhost:8080/"
        },
        "id": "qRNEpD6jyF4G",
        "outputId": "6ea121f8-5aa4-4888-8ee6-aa8bf1d5222a"
      },
      "execution_count": null,
      "outputs": [
        {
          "output_type": "stream",
          "name": "stdout",
          "text": [
            "Nota Lab1 Computo 1: 10\n",
            "Nota Lab2 Computo 1: 3.3\n",
            "Nota Parcial Computo 1: 9.8\n",
            "Nota Lab1 Computo 2: 2\n",
            "Nota Lab2 Computo 2: 10\n",
            "Nota Parcial Computo 2: 4\n",
            "Nota Lab1 Computo 3: 7\n",
            "Nota Lab2 Computo 3: 5\n",
            "Nota Parcial Computo 3: 5\n",
            "La nota final de la materia es: 6.25\n"
          ]
        }
      ]
    },
    {
      "cell_type": "code",
      "source": [
        "#importar las librerias necesarias.\n",
        "import tensorflow as tf\n",
        "import matplotlib.pyplot as plt\n",
        "import numpy as np\n",
        "import pandas as pd\n",
        "import math\n",
        "import tensorflow_datasets as tfds"
      ],
      "metadata": {
        "id": "D6FqJ3_f0YNP"
      },
      "execution_count": null,
      "outputs": []
    },
    {
      "cell_type": "code",
      "source": [
        "#cargamos el dataset\n",
        "dataset, metadata = tfds.load('fashion_mnist', as_supervised=True, with_info=True)\n",
        "datos_entrenamiento, datos_prueba = dataset['train'], dataset['test']\n",
        "#print(datos_entrenamiento)"
      ],
      "metadata": {
        "id": "a0Fz6WyV0vav"
      },
      "execution_count": null,
      "outputs": []
    },
    {
      "cell_type": "code",
      "source": [
        "numero_letras = [\n",
        "    \"Suéter\",\n",
        "    \"Bota\",\n",
        "    \"Camiseta/Top\",\n",
        "    \"Pantalón\",\n",
        "    \"Vestido\",\n",
        "    \"Abrigo\",\n",
        "    \"Sandalia\",\n",
        "    \"Camisa\",\n",
        "    \"Tenis\",\n",
        "    \"Bolso\"\n",
        "]\n"
      ],
      "metadata": {
        "id": "_0dbvlpk0xQb"
      },
      "execution_count": null,
      "outputs": []
    },
    {
      "cell_type": "code",
      "source": [
        "#pasar los datos del dataset a variables\n",
        "numeros_ejemplo_entrenamiento = metadata.splits['train'].num_examples\n",
        "#print(numeros_ejemplo_entrenamiento)\n",
        "\n",
        "numeros_ejemplo_prueba = metadata.splits['test'].num_examples\n",
        "#print(numeros_ejemplo_prueba)"
      ],
      "metadata": {
        "id": "krN2AxY4000m"
      },
      "execution_count": null,
      "outputs": []
    },
    {
      "cell_type": "code",
      "source": [
        "img = datos_prueba.take(1)\n",
        "print(img)"
      ],
      "metadata": {
        "colab": {
          "base_uri": "https://localhost:8080/"
        },
        "id": "lC6aRF4J05T9",
        "outputId": "1ed2df9b-e204-4a7c-a8f3-b367fa50f15f"
      },
      "execution_count": null,
      "outputs": [
        {
          "output_type": "stream",
          "name": "stdout",
          "text": [
            "<_TakeDataset element_spec=(TensorSpec(shape=(28, 28, 1), dtype=tf.uint8, name=None), TensorSpec(shape=(), dtype=tf.int64, name=None))>\n"
          ]
        }
      ]
    },
    {
      "cell_type": "code",
      "source": [
        "#funcion normalizadora de los pixeles de 0 a 255 para que vaya de 0 a 1\n",
        "def normalizacion(imagenes, etiquetas):\n",
        "  imagenes = tf.cast(imagenes, tf.float32)\n",
        "  imagenes /= 255 # 138/255 = 0.541176\n",
        "  return imagenes, etiquetas"
      ],
      "metadata": {
        "id": "0dR4YuH_0-i2"
      },
      "execution_count": null,
      "outputs": []
    },
    {
      "cell_type": "code",
      "source": [
        "#normalizamos los datos de entrenamiento y prueba\n",
        "datos_entrenamiento = datos_entrenamiento.map(normalizacion)\n",
        "datos_prueba = datos_prueba.map(normalizacion)"
      ],
      "metadata": {
        "id": "cupPc0h41JHU"
      },
      "execution_count": null,
      "outputs": []
    },
    {
      "cell_type": "code",
      "source": [
        "#creamos el modelo de nuestra red neuronal.\n",
        "modelo = tf.keras.Sequential([\n",
        "    tf.keras.layers.Flatten(input_shape=(28, 28, 1)),\n",
        "    tf.keras.layers.Dense(64, activation=tf.nn.relu),\n",
        "    tf.keras.layers.Dense(64, activation=tf.nn.relu),\n",
        "    tf.keras.layers.Dense(10, activation=tf.nn.softmax)\n",
        "])"
      ],
      "metadata": {
        "colab": {
          "base_uri": "https://localhost:8080/"
        },
        "id": "hXaVYXNX1yg-",
        "outputId": "0499dcc2-ca47-4912-a6f7-d68eb597f4fd"
      },
      "execution_count": null,
      "outputs": [
        {
          "output_type": "stream",
          "name": "stderr",
          "text": [
            "/usr/local/lib/python3.10/dist-packages/keras/src/layers/reshaping/flatten.py:37: UserWarning: Do not pass an `input_shape`/`input_dim` argument to a layer. When using Sequential models, prefer using an `Input(shape)` object as the first layer in the model instead.\n",
            "  super().__init__(**kwargs)\n"
          ]
        }
      ]
    },
    {
      "cell_type": "code",
      "source": [
        "#compilamos el modelo de la red neuronal.\n",
        "modelo.compile(\n",
        "    optimizer='adam',\n",
        "    loss='sparse_categorical_crossentropy',\n",
        "    metrics=['accuracy']\n",
        ")"
      ],
      "metadata": {
        "id": "WrlamA_n2UY8"
      },
      "execution_count": null,
      "outputs": []
    },
    {
      "cell_type": "code",
      "source": [
        "#entrenamos la red neuronal por lotes.\n",
        "tamano_lote = 32 #60,000/32 = 1875 imagenes.\n",
        "datos_entrenamiento = datos_entrenamiento.repeat().shuffle(numeros_ejemplo_entrenamiento).batch(tamano_lote)\n",
        "datos_prueba = datos_prueba.repeat().shuffle(numeros_ejemplo_prueba).batch(tamano_lote)\n",
        "#"
      ],
      "metadata": {
        "id": "u_52tI302WGS"
      },
      "execution_count": null,
      "outputs": []
    },
    {
      "cell_type": "code",
      "source": [
        "#entrenamos nuestro modelo de datos.\n",
        "modelo.fit(datos_entrenamiento, epochs=5,\n",
        "           steps_per_epoch=math.ceil(numeros_ejemplo_entrenamiento/tamano_lote))"
      ],
      "metadata": {
        "colab": {
          "base_uri": "https://localhost:8080/"
        },
        "id": "e8GfjDV32bUC",
        "outputId": "8ee1c90d-da7d-41fc-d6db-0046caff5f0d"
      },
      "execution_count": null,
      "outputs": [
        {
          "output_type": "stream",
          "name": "stdout",
          "text": [
            "Epoch 1/5\n",
            "\u001b[1m1875/1875\u001b[0m \u001b[32m━━━━━━━━━━━━━━━━━━━━\u001b[0m\u001b[37m\u001b[0m \u001b[1m16s\u001b[0m 5ms/step - accuracy: 0.7648 - loss: 0.6774\n",
            "Epoch 2/5\n",
            "\u001b[1m1875/1875\u001b[0m \u001b[32m━━━━━━━━━━━━━━━━━━━━\u001b[0m\u001b[37m\u001b[0m \u001b[1m10s\u001b[0m 5ms/step - accuracy: 0.8609 - loss: 0.3873\n",
            "Epoch 3/5\n",
            "\u001b[1m1875/1875\u001b[0m \u001b[32m━━━━━━━━━━━━━━━━━━━━\u001b[0m\u001b[37m\u001b[0m \u001b[1m8s\u001b[0m 4ms/step - accuracy: 0.8725 - loss: 0.3506\n",
            "Epoch 4/5\n",
            "\u001b[1m1875/1875\u001b[0m \u001b[32m━━━━━━━━━━━━━━━━━━━━\u001b[0m\u001b[37m\u001b[0m \u001b[1m9s\u001b[0m 5ms/step - accuracy: 0.8843 - loss: 0.3166\n",
            "Epoch 5/5\n",
            "\u001b[1m1875/1875\u001b[0m \u001b[32m━━━━━━━━━━━━━━━━━━━━\u001b[0m\u001b[37m\u001b[0m \u001b[1m7s\u001b[0m 4ms/step - accuracy: 0.8888 - loss: 0.3025\n"
          ]
        },
        {
          "output_type": "execute_result",
          "data": {
            "text/plain": [
              "<keras.src.callbacks.history.History at 0x7c5134e6dd50>"
            ]
          },
          "metadata": {},
          "execution_count": 25
        }
      ]
    },
    {
      "cell_type": "code",
      "source": [
        "#evaluamos el modelo.\n",
        "test_loss, test_accuracy = modelo.evaluate(datos_prueba, steps=math.ceil(numeros_ejemplo_prueba/tamano_lote))\n",
        "print('Resultado de las pruebas: ', test_accuracy)"
      ],
      "metadata": {
        "colab": {
          "base_uri": "https://localhost:8080/"
        },
        "id": "XubsteVo2g5e",
        "outputId": "9f48a1a6-86b8-411b-b23e-3fd51dd41204"
      },
      "execution_count": null,
      "outputs": [
        {
          "output_type": "stream",
          "name": "stdout",
          "text": [
            "\u001b[1m313/313\u001b[0m \u001b[32m━━━━━━━━━━━━━━━━━━━━\u001b[0m\u001b[37m\u001b[0m \u001b[1m2s\u001b[0m 3ms/step - accuracy: 0.8686 - loss: 0.3529\n",
            "Resultado de las pruebas:  0.8749001622200012\n"
          ]
        }
      ]
    },
    {
      "cell_type": "code",
      "source": [
        "#convertir en mtrices las imganes usando numpy\n",
        "for imagenes_prueba, etiquetas_prueba in datos_prueba.take(1):\n",
        "  imagenes_prueba = imagenes_prueba.numpy()\n",
        "  etiquetas_prueba = etiquetas_prueba.numpy()\n",
        "  predicciones = modelo.predict(imagenes_prueba)\n",
        "  print(predicciones)"
      ],
      "metadata": {
        "colab": {
          "base_uri": "https://localhost:8080/"
        },
        "id": "EtX4LMI_2lmI",
        "outputId": "6073c29b-0b9a-48e9-e639-643d284cf457"
      },
      "execution_count": null,
      "outputs": [
        {
          "output_type": "stream",
          "name": "stdout",
          "text": [
            "\u001b[1m1/1\u001b[0m \u001b[32m━━━━━━━━━━━━━━━━━━━━\u001b[0m\u001b[37m\u001b[0m \u001b[1m0s\u001b[0m 75ms/step\n",
            "[[1.69418781e-05 6.58511734e-09 1.90347538e-09 1.71758152e-09\n",
            "  9.49440082e-10 2.25406257e-03 3.32129990e-09 8.60709551e-05\n",
            "  9.86252635e-10 9.97642994e-01]\n",
            " [2.00628147e-05 9.99959290e-01 2.38169696e-06 8.95952053e-06\n",
            "  5.59752516e-06 3.76086017e-14 3.64758944e-06 1.49224586e-13\n",
            "  2.30288943e-08 3.54574065e-10]\n",
            " [2.20597514e-08 4.79046747e-10 6.41686437e-09 2.04199981e-08\n",
            "  6.68291089e-10 1.22717684e-04 1.55805395e-07 9.99871969e-01\n",
            "  3.70278917e-06 1.28444742e-06]\n",
            " [7.11200300e-07 2.75567498e-08 2.54735681e-07 3.13303673e-07\n",
            "  5.43134284e-08 5.14815450e-02 3.30297121e-06 9.48113143e-01\n",
            "  3.77502874e-05 3.62791441e-04]\n",
            " [1.99370537e-11 1.89652724e-18 1.98782437e-14 4.81020009e-13\n",
            "  1.05685571e-14 9.99999940e-01 2.33045194e-10 6.92293500e-10\n",
            "  3.78317271e-14 1.02486899e-11]\n",
            " [4.11634943e-07 9.99998987e-01 5.81329580e-08 3.26730316e-07\n",
            "  9.48508188e-08 2.18132604e-15 7.47141371e-08 2.53293175e-15\n",
            "  1.05988751e-09 6.91057324e-12]\n",
            " [2.54146397e-01 2.36728265e-05 1.94280234e-04 4.12318623e-04\n",
            "  1.56242222e-05 5.20039612e-05 7.43141413e-01 4.62704611e-06\n",
            "  2.00924883e-03 3.99007774e-07]\n",
            " [1.65938317e-07 1.14449492e-10 5.69877825e-12 6.31273259e-14\n",
            "  2.86717698e-12 1.72788373e-06 2.82195170e-11 1.38560412e-04\n",
            "  3.20212301e-10 9.99859571e-01]\n",
            " [1.48363921e-04 6.55322108e-09 2.32443144e-03 4.65411067e-05\n",
            "  8.74551199e-03 1.61834024e-07 9.88725126e-01 3.00952401e-08\n",
            "  9.74699014e-06 2.73121592e-09]\n",
            " [5.27502387e-04 8.06911544e-07 3.03421408e-01 5.28140663e-06\n",
            "  4.55028147e-01 9.46964462e-09 2.41014570e-01 4.46398751e-10\n",
            "  2.16327635e-06 2.22544845e-08]\n",
            " [1.49770817e-02 1.61235308e-04 1.01647459e-01 4.10784185e-02\n",
            "  5.63527286e-01 2.37752814e-04 2.69513965e-01 5.90181298e-05\n",
            "  8.78664665e-03 1.11113986e-05]\n",
            " [2.33726174e-01 5.91409917e-04 2.54882455e-01 3.61120664e-02\n",
            "  1.40030384e-02 1.98720118e-05 4.58563268e-01 3.22033302e-05\n",
            "  2.01824517e-03 5.12293627e-05]\n",
            " [1.03134057e-02 7.39353597e-01 3.50972940e-03 2.41667971e-01\n",
            "  1.13985478e-03 2.74516962e-04 2.50644819e-03 1.12978720e-04\n",
            "  7.64355704e-04 3.56984237e-04]\n",
            " [9.50453058e-02 3.31631931e-03 7.84446299e-02 6.41546786e-01\n",
            "  1.06170230e-01 2.18203041e-07 5.92128038e-02 9.81833750e-07\n",
            "  1.62550043e-02 7.65153618e-06]\n",
            " [4.85361124e-05 5.67960888e-06 2.04525311e-02 6.99171360e-05\n",
            "  9.74345565e-01 1.84372281e-10 5.06184716e-03 2.59470934e-11\n",
            "  1.58343464e-05 1.05180185e-08]\n",
            " [9.57683027e-01 4.07161536e-07 1.76408794e-04 1.56949114e-04\n",
            "  4.89898684e-06 3.54937953e-07 4.19726707e-02 7.81604044e-08\n",
            "  5.23491099e-06 5.84296771e-08]\n",
            " [1.08132213e-06 3.94467662e-12 5.33083323e-07 3.21718696e-09\n",
            "  3.07605251e-06 1.98374206e-09 5.24793859e-06 7.82010567e-10\n",
            "  9.99990046e-01 4.21661568e-08]\n",
            " [7.57830912e-06 1.01336131e-08 2.11784410e-07 1.93797590e-07\n",
            "  3.83772125e-08 2.93003366e-04 7.44021236e-06 9.93001580e-01\n",
            "  3.12162738e-05 6.65863045e-03]\n",
            " [4.59842160e-02 2.96764629e-04 3.72235849e-02 5.29816985e-01\n",
            "  2.78344750e-01 3.18907354e-08 1.07737802e-01 1.67883144e-07\n",
            "  5.95582125e-04 1.16116141e-07]\n",
            " [5.90508371e-08 8.14998134e-13 8.74907202e-10 7.35833652e-08\n",
            "  2.27742358e-09 4.33847784e-11 4.21297650e-11 1.75282228e-12\n",
            "  9.99999821e-01 2.19476401e-13]\n",
            " [3.50391679e-02 5.84564218e-03 2.68342912e-01 7.25889057e-02\n",
            "  1.89827830e-01 3.72501439e-04 3.17027509e-01 7.18579162e-04\n",
            "  1.09136179e-01 1.10073015e-03]\n",
            " [7.33770912e-06 8.60849028e-08 9.57623342e-07 1.77868992e-06\n",
            "  2.71471038e-07 4.32303131e-01 2.49903933e-05 5.66468656e-01\n",
            "  2.70899745e-05 1.16569607e-03]\n",
            " [8.22351838e-04 2.68165131e-05 5.93573181e-03 2.04624720e-02\n",
            "  9.63765860e-01 2.98826883e-08 7.20930798e-03 6.75437661e-08\n",
            "  1.77719421e-03 9.95984095e-08]\n",
            " [5.91964740e-03 1.53309721e-02 1.16274893e-01 3.96150351e-02\n",
            "  7.91610062e-01 1.26387363e-06 2.86312513e-02 1.24909786e-06\n",
            "  2.55605765e-03 5.95340098e-05]\n",
            " [3.83094244e-04 9.99213398e-01 3.10920259e-05 1.18946395e-04\n",
            "  1.76793637e-05 3.15134890e-10 2.35361862e-04 1.21827914e-09\n",
            "  2.71605359e-07 8.42909742e-08]\n",
            " [4.51578246e-03 1.44913327e-04 8.30788314e-01 2.17977189e-03\n",
            "  7.82845840e-02 2.18117648e-07 8.38933811e-02 4.58200695e-08\n",
            "  1.92959676e-04 2.12127432e-07]\n",
            " [2.39460589e-03 3.19863466e-06 1.13484539e-05 1.12120688e-05\n",
            "  5.76461865e-08 1.60262678e-02 8.86159251e-05 9.70845856e-03\n",
            "  2.31954189e-07 9.71755981e-01]\n",
            " [1.01171364e-03 5.91342803e-03 5.71601000e-03 2.64518648e-01\n",
            "  7.18706310e-01 1.34050950e-07 3.69648286e-03 1.17262246e-07\n",
            "  4.33882407e-04 3.30321518e-06]\n",
            " [7.25694190e-06 9.77917122e-11 6.44971587e-09 4.60010086e-10\n",
            "  2.90845924e-11 1.07942566e-01 2.70781197e-09 2.54140235e-03\n",
            "  2.21373284e-07 8.89508545e-01]\n",
            " [9.97856736e-01 3.49276696e-08 7.58734757e-07 1.36899973e-06\n",
            "  1.20302488e-08 4.58113270e-11 2.14100513e-03 1.47729034e-11\n",
            "  4.23792024e-08 2.12871970e-10]\n",
            " [8.78610663e-05 7.05358275e-07 1.78609286e-02 4.95349814e-04\n",
            "  9.69475746e-01 1.69024378e-10 1.20408358e-02 3.04272635e-10\n",
            "  3.85995045e-05 9.55127644e-10]\n",
            " [4.93909681e-07 7.26198168e-09 3.08243585e-07 1.74612978e-07\n",
            "  4.97592367e-08 1.43533396e-02 3.35613595e-06 9.85410273e-01\n",
            "  1.09911154e-04 1.22071404e-04]]\n"
          ]
        }
      ]
    },
    {
      "cell_type": "code",
      "source": [
        "def graficar_imagen(i, predicciones_array, etiquetas_reales, imagenes):\n",
        "  predicciones_array, etiqueta_real, img = predicciones_array[i], etiquetas_reales[i], imagenes[i]\n",
        "  plt.grid(False)\n",
        "  plt.xticks([])\n",
        "  plt.yticks([])\n",
        "\n",
        "  plt.imshow(img[...,0], cmap=plt.cm.binary)\n",
        "\n",
        "  etiqueta_prediccion = np.argmax(predicciones_array)\n",
        "  if etiqueta_prediccion == etiqueta_real:\n",
        "    color = 'blue'\n",
        "  else:\n",
        "    color = 'red'\n",
        "  plt.xlabel(\"Prediccion: {}\".format(numero_letras[etiqueta_prediccion]), color=color)"
      ],
      "metadata": {
        "id": "H1U6QDAC2oe0"
      },
      "execution_count": null,
      "outputs": []
    },
    {
      "cell_type": "code",
      "source": [
        "#graficamos los valores de las matrices.\n",
        "def graficar_valores_predicciones(i, predicciones_array, etiquetas_reales):\n",
        "  predicciones_array, etiqueta_real = predicciones_array[i], etiquetas_reales[i]\n",
        "  plt.grid(False)\n",
        "  plt.xticks(range(10))\n",
        "  plt.yticks([])\n",
        "  thisplot = plt.bar(range(10), predicciones_array, color=\"#888888\")\n",
        "  plt.ylim([0, 1])\n",
        "  etiqueta_prediccion = np.argmax(predicciones_array)\n",
        "\n",
        "  thisplot[etiqueta_prediccion].set_color('red')\n",
        "  thisplot[etiqueta_real].set_color('blue')"
      ],
      "metadata": {
        "id": "Z2kEp1hW2u2s"
      },
      "execution_count": null,
      "outputs": []
    },
    {
      "cell_type": "code",
      "source": [
        "#Realizamos la grafica por cada imagen.\n",
        "num_filas = 5\n",
        "num_columnas = 3\n",
        "num_imagenes = num_filas*num_columnas\n",
        "plt.figure(figsize=(2*2*num_columnas, 2*num_filas))\n",
        "for i in range(num_imagenes):\n",
        "  plt.subplot(num_filas, 2*num_columnas, 2*i+1)\n",
        "  graficar_imagen(i, predicciones, etiquetas_prueba, imagenes_prueba)\n",
        "  plt.subplot(num_filas, 2*num_columnas, 2*i+2)\n",
        "  graficar_valores_predicciones(i, predicciones, etiquetas_prueba)\n",
        "plt.show()"
      ],
      "metadata": {
        "colab": {
          "base_uri": "https://localhost:8080/",
          "height": 830
        },
        "id": "JP2-AeY021X7",
        "outputId": "747ab6cf-f66c-4877-f32e-1ca736485f97"
      },
      "execution_count": null,
      "outputs": [
        {
          "output_type": "display_data",
          "data": {
            "text/plain": [
              "<Figure size 1200x1000 with 30 Axes>"
            ],
            "image/png": "[encoded data removed]"
          },
          "metadata": {}
        }
      ]
    }
  ],
  "metadata": {
    "colab": {
      "provenance": [],
      "authorship_tag": "ABX9TyN3Gyjdc8329Toxx2N/dwUn",
      "include_colab_link": true
    },
    "kernelspec": {
      "display_name": "Python 3",
      "name": "python3"
    },
    "language_info": {
      "name": "python"
    }
  },
  "nbformat": 4,
  "nbformat_minor": 0
}